{
 "cells": [
  {
   "cell_type": "markdown",
   "metadata": {},
   "source": [
    "# Atividades aula 3\n",
    "\n",
    "## Dicionarios e sets\n",
    "\n",
    "### 1°: Crie um dicionário com o nome e a idade de algumas pessoas. Em seguida, pergunte ao usuário qual nome ele deseja buscar e mostre a idade correspondente. Se o nome não estiver no dicionário, informe que a pessoa não foi encontrada\n",
    "\n",
    "### 2°: Crie um dicionário que funcionará como uma agenda telefonica, e que ficara adicionando numeros enquanto o usuario quiser\n",
    "\n",
    "### 3°: Crie um sistema de cadastramento de alunos, onde a matricula tem que ser unica, e que peça as seguintes informações: nome, idade e sexo\n",
    "\n",
    "### Desafio: crie um sistema integrado para cadastro de pacientes num hospital, onde terá 3 opções de ação\n",
    "\n",
    "#### 1 - cadastrar paciente, onde terá como chave no dicionario um id que se autoincrementará ao cadastrar um novo paciente, e o valor será uma lista com as seguintes informações: nome, idade, peso e altura\n",
    "\n",
    "#### 2 - Ver todos os pacientes\n",
    "\n",
    "#### 3 - Apagar paciente\n",
    "\n",
    "#### 0 - Finalizar sistema\n",
    "\n",
    "## Respostas\n",
    "\n",
    "<https://github.com/infinity-repositorios/atividades/blob/main/Respostas/Python/aula3.md>\n",
    "\n",
    "## Atividades Python\n",
    "\n",
    "<https://github.com/infinity-repositorios/atividades/blob/main/guias/Python.md>\n",
    "\n",
    "## Menu\n",
    "\n",
    "<https://github.com/infinity-repositorios/atividades>"
   ]
  }
 ],
 "metadata": {
  "language_info": {
   "name": "python"
  },
  "orig_nbformat": 4
 },
 "nbformat": 4,
 "nbformat_minor": 2
}
