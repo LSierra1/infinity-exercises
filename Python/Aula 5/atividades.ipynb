{
 "cells": [
  {
   "attachments": {},
   "cell_type": "markdown",
   "metadata": {},
   "source": [
    "# Atividades aula 5\n",
    "\n",
    "## Funções II\n"
   ]
  },
  {
   "attachments": {},
   "cell_type": "markdown",
   "metadata": {},
   "source": [
    "### 1°: Escreva uma função lambda que receba um número e verifique se ele é par ou ímpar. A função deve retornar \"par\" se o número for par e \"ímpar\" caso contrário\n"
   ]
  },
  {
   "attachments": {},
   "cell_type": "markdown",
   "metadata": {},
   "source": [
    "- Método 1:"
   ]
  },
  {
   "cell_type": "code",
   "execution_count": null,
   "metadata": {},
   "outputs": [],
   "source": [
    "checkNumber = lambda x: \"pair\" if x % 2 == 0 else \"odd\"\n",
    "print(checkNumber(int(input(\"Digite um número: \"))))"
   ]
  },
  {
   "attachments": {},
   "cell_type": "markdown",
   "metadata": {},
   "source": [
    "- Método 2"
   ]
  },
  {
   "cell_type": "code",
   "execution_count": null,
   "metadata": {},
   "outputs": [],
   "source": [
    "print((lambda x: \"pair\" if x % 2 == 0 else \"odd\")(int(input(\"Digite um número: \"))))"
   ]
  },
  {
   "attachments": {},
   "cell_type": "markdown",
   "metadata": {},
   "source": [
    "### 2°: Implemente uma função lambda que receba duas strings e retorne a concatenação das duas, apenas se ambas as strings tiverem mais de 5 caracteres. Caso contrário, a função deve retornar uma mensagem de erro\n"
   ]
  },
  {
   "attachments": {},
   "cell_type": "markdown",
   "metadata": {},
   "source": [
    "- Método 1:"
   ]
  },
  {
   "cell_type": "code",
   "execution_count": null,
   "metadata": {},
   "outputs": [],
   "source": [
    "x = input(\"Digite algo (preferencialmente mais de 5 caracteres): \")\n",
    "y = input(\"Digite algo (preferencialmente mais de 5 caracteres): \")\n",
    "concatenate = lambda x, y: x + y if len(x) > 5 and len(y) > 5 else \"Error\"\n",
    "print(concatenate(x, y))"
   ]
  },
  {
   "attachments": {},
   "cell_type": "markdown",
   "metadata": {},
   "source": [
    "- Método 2"
   ]
  },
  {
   "cell_type": "code",
   "execution_count": null,
   "metadata": {},
   "outputs": [],
   "source": [
    "x = input(\"Digite algo (preferencialmente mais de 5 caracteres): \")\n",
    "y = input(\"Digite algo (preferencialmente mais de 5 caracteres): \")\n",
    "\n",
    "print((lambda x, y: x + y if len(x) > 5 and len(y) > 5 else \"Error\") (x, y))"
   ]
  },
  {
   "attachments": {},
   "cell_type": "markdown",
   "metadata": {},
   "source": [
    "### 3°: Implemente uma função lambda que receba um número e verifique se ele é divisível por 3 e por 5. A função deve retornar \"divisível\" se a condição for satisfeita e \"não divisível\" caso contrário\n"
   ]
  },
  {
   "attachments": {},
   "cell_type": "markdown",
   "metadata": {},
   "source": [
    "### 4°: A partir de uma lista de strings, utilize map() e uma função lambda para converter todas as letras em maiúsculas\n"
   ]
  },
  {
   "attachments": {},
   "cell_type": "markdown",
   "metadata": {},
   "source": [
    "### 5°: A partir de uma lista de palavras, utilize filter() e uma função lambda para filtrar apenas as palavras que possuem mais de 5 letras\n"
   ]
  },
  {
   "attachments": {},
   "cell_type": "markdown",
   "metadata": {},
   "source": [
    "### 6°: Dada uma lista de valores numéricos, utilize reduce() e uma função lambda para obter o valor máximo da lista\n"
   ]
  },
  {
   "attachments": {},
   "cell_type": "markdown",
   "metadata": {},
   "source": [
    "### 7°: A partir de uma lista de dicionários, cada um representando uma pessoa com os campos \"nome\" e \"idade\", utilize map() e uma função lambda para obter uma nova lista contendo apenas os nomes das pessoas\n"
   ]
  }
 ],
 "metadata": {
  "kernelspec": {
   "display_name": "Python 3",
   "language": "python",
   "name": "python3"
  },
  "language_info": {
   "name": "python",
   "version": "3.10.2"
  },
  "orig_nbformat": 4
 },
 "nbformat": 4,
 "nbformat_minor": 2
}
