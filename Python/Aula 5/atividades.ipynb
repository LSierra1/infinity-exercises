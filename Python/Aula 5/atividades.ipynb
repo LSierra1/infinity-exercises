{
 "cells": [
  {
   "attachments": {},
   "cell_type": "markdown",
   "metadata": {},
   "source": [
    "# Atividades aula 5\n",
    "\n",
    "## Funções II\n"
   ]
  },
  {
   "attachments": {},
   "cell_type": "markdown",
   "metadata": {},
   "source": [
    "### 1°: Escreva uma função lambda que receba um número e verifique se ele é par ou ímpar. A função deve retornar \"par\" se o número for par e \"ímpar\" caso contrário\n"
   ]
  },
  {
   "attachments": {},
   "cell_type": "markdown",
   "metadata": {},
   "source": [
    "- Método 1:"
   ]
  },
  {
   "cell_type": "code",
   "execution_count": null,
   "metadata": {},
   "outputs": [],
   "source": [
    "checkNumber = lambda x: \"pair\" if x % 2 == 0 else \"odd\"\n",
    "print(checkNumber(int(input(\"Digite um número: \"))))"
   ]
  },
  {
   "attachments": {},
   "cell_type": "markdown",
   "metadata": {},
   "source": [
    "- Método 2"
   ]
  },
  {
   "cell_type": "code",
   "execution_count": null,
   "metadata": {},
   "outputs": [],
   "source": [
    "print((lambda x: \"pair\" if x % 2 == 0 else \"odd\")(int(input(\"Digite um número: \"))))"
   ]
  },
  {
   "attachments": {},
   "cell_type": "markdown",
   "metadata": {},
   "source": [
    "### 2°: Implemente uma função lambda que receba duas strings e retorne a concatenação das duas, apenas se ambas as strings tiverem mais de 5 caracteres. Caso contrário, a função deve retornar uma mensagem de erro\n"
   ]
  },
  {
   "attachments": {},
   "cell_type": "markdown",
   "metadata": {},
   "source": [
    "- Método 1:"
   ]
  },
  {
   "cell_type": "code",
   "execution_count": null,
   "metadata": {},
   "outputs": [],
   "source": [
    "x = input(\"Digite algo (preferencialmente mais de 5 caracteres): \")\n",
    "y = input(\"Digite algo (preferencialmente mais de 5 caracteres): \")\n",
    "concatenate = lambda x, y: x + y if len(x) > 5 and len(y) > 5 else \"Error\"\n",
    "print(concatenate(x, y))"
   ]
  },
  {
   "attachments": {},
   "cell_type": "markdown",
   "metadata": {},
   "source": [
    "- Método 2"
   ]
  },
  {
   "cell_type": "code",
   "execution_count": null,
   "metadata": {},
   "outputs": [],
   "source": [
    "x = input(\"Digite algo (preferencialmente mais de 5 caracteres): \")\n",
    "y = input(\"Digite algo (preferencialmente mais de 5 caracteres): \")\n",
    "\n",
    "print((lambda x, y: x + y if len(x) > 5 and len(y) > 5 else \"Error\") (x, y))"
   ]
  },
  {
   "attachments": {},
   "cell_type": "markdown",
   "metadata": {},
   "source": [
    "### 3°: Implemente uma função lambda que receba um número e verifique se ele é divisível por 3 e por 5. A função deve retornar \"divisível\" se a condição for satisfeita e \"não divisível\" caso contrário\n"
   ]
  },
  {
   "cell_type": "code",
   "execution_count": null,
   "metadata": {},
   "outputs": [],
   "source": [
    "x = int(input(\"Enter a number: \"))\n",
    "checker = lambda x: \"Divisível\" if (x % 3 == 0) and (x % 5 == 0) else \"Não divisível\"\n",
    "\n",
    "print(checker(x))"
   ]
  },
  {
   "attachments": {},
   "cell_type": "markdown",
   "metadata": {},
   "source": [
    "### 4°: A partir de uma lista de strings, utilize map() e uma função lambda para converter todas as letras em maiúsculas\n"
   ]
  },
  {
   "cell_type": "code",
   "execution_count": null,
   "metadata": {},
   "outputs": [],
   "source": [
    "listString = [\"cAt\", \"hOUse\", \"sUnshine\", \"ElePhant\", \"AppLe\", \"CoLor\", \"MoUntain\", \"REmote\", \"ComPuter\", \"GEnius\"]\n",
    "\n",
    "# upperListString = list(map(lambda listString: listString.upper(), listString))\n",
    "\n",
    "# print(upperListString)\n",
    "\n",
    "print(list(map(lambda listString: listString.upper(), listString)))"
   ]
  },
  {
   "attachments": {},
   "cell_type": "markdown",
   "metadata": {},
   "source": [
    "### 5°: A partir de uma lista de palavras, utilize filter() e uma função lambda para filtrar apenas as palavras que possuem mais de 5 letras\n"
   ]
  },
  {
   "cell_type": "code",
   "execution_count": null,
   "metadata": {},
   "outputs": [],
   "source": [
    "wordsList = [\"apple\", \"car\", \"house\", \"dog\", \"cat\", \"computer\", \"book\", \"music\", \"friend\", \"sun\"]\n",
    "\n",
    "print(list(filter(lambda moreThan5: len(moreThan5) > 5, wordsList)))"
   ]
  },
  {
   "attachments": {},
   "cell_type": "markdown",
   "metadata": {},
   "source": [
    "### 6°: Dada uma lista de valores numéricos, utilize reduce() e uma função lambda para obter o valor máximo da lista\n"
   ]
  },
  {
   "cell_type": "code",
   "execution_count": null,
   "metadata": {},
   "outputs": [],
   "source": [
    "from functools import reduce\n",
    "\n",
    "numeros = [1, 2, 3, 4, 5, 6, 7, 8, 9, 10, 11, 12]\n",
    "\n",
    "valor_maximo = reduce(lambda x, y: x + y, numeros)\n",
    "\n",
    "print(valor_maximo)"
   ]
  },
  {
   "attachments": {},
   "cell_type": "markdown",
   "metadata": {},
   "source": [
    "### 7°: A partir de uma lista de dicionários, cada um representando uma pessoa com os campos \"nome\" e \"idade\", utilize map() e uma função lambda para obter uma nova lista contendo apenas os nomes das pessoas\n"
   ]
  },
  {
   "cell_type": "code",
   "execution_count": null,
   "metadata": {},
   "outputs": [],
   "source": [
    "pessoas = [\n",
    "    {\n",
    "        \"nome\": \"Getulio\",\n",
    "        \"idade\": 22\n",
    "    },\n",
    "    {\n",
    "        \"nome\": \"Vagner\",\n",
    "        \"idade\": 17\n",
    "    },\n",
    "    {\n",
    "        \"nome\": \"Maria\",\n",
    "        \"idade\": 21\n",
    "    },\n",
    "    {\n",
    "        \"nome\": \"João\",\n",
    "        \"idade\": 30\n",
    "    },\n",
    "    {\n",
    "        \"nome\": \"Luisa\",\n",
    "        \"idade\": 25\n",
    "    },\n",
    "    {\n",
    "        \"nome\": \"Pedro\",\n",
    "        \"idade\": 28\n",
    "    },\n",
    "    {\n",
    "        \"nome\": \"Ana\",\n",
    "        \"idade\": 19\n",
    "    },\n",
    "    {\n",
    "        \"nome\": \"Paula\",\n",
    "        \"idade\": 32\n",
    "    },\n",
    "    {\n",
    "        \"nome\": \"Lucas\",\n",
    "        \"idade\": 23\n",
    "    },\n",
    "    {\n",
    "        \"nome\": \"Mariana\",\n",
    "        \"idade\": 26\n",
    "    },\n",
    "    {\n",
    "        \"nome\": \"Ricardo\",\n",
    "        \"idade\": 35\n",
    "    },\n",
    "    {\n",
    "        \"nome\": \"Camila\",\n",
    "        \"idade\": 29\n",
    "    },\n",
    "    {\n",
    "        \"nome\": \"Gustavo\",\n",
    "        \"idade\": 24\n",
    "    },\n",
    "    {\n",
    "        \"nome\": \"Carla\",\n",
    "        \"idade\": 31\n",
    "    },\n",
    "    {\n",
    "        \"nome\": \"Daniel\",\n",
    "        \"idade\": 27\n",
    "    },\n",
    "    {\n",
    "        \"nome\": \"Fernanda\",\n",
    "        \"idade\": 22\n",
    "    },\n",
    "    {\n",
    "        \"nome\": \"José\",\n",
    "        \"idade\": 40\n",
    "    },\n",
    "    {\n",
    "        \"nome\": \"Isabela\",\n",
    "        \"idade\": 18\n",
    "    },\n",
    "    {\n",
    "        \"nome\": \"Henrique\",\n",
    "        \"idade\": 33\n",
    "    },\n",
    "    {\n",
    "        \"nome\": \"Sofia\",\n",
    "        \"idade\": 20\n",
    "    },\n",
    "]\n",
    "\n",
    "# names = list(map(lambda x: x[\"nome\"], pessoas))\n",
    "# age = list(map(lambda y: y[\"idade\"], pessoas))\n",
    "\n",
    "print(\n",
    "    list(map(lambda x: x[\"nome\"], pessoas)),\n",
    "    \"\\n\",\n",
    "    list(map(lambda y: y[\"idade\"], pessoas))\n",
    ")"
   ]
  }
 ],
 "metadata": {
  "kernelspec": {
   "display_name": "Python 3",
   "language": "python",
   "name": "python3"
  },
  "language_info": {
   "name": "python",
   "version": "3.11.5"
  },
  "orig_nbformat": 4
 },
 "nbformat": 4,
 "nbformat_minor": 2
}
