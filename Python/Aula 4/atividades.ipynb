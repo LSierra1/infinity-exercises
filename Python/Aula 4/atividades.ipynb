{
 "cells": [
  {
   "cell_type": "markdown",
   "metadata": {},
   "source": [
    "# Atividades aula 4\n",
    "\n",
    "## Funções"
   ]
  },
  {
   "cell_type": "markdown",
   "metadata": {},
   "source": [
    "### 1°: Faça uma função que recebe por parâmetro o tempo de duração de uma fábrica expressa em segundos e retorna também por parâmetro esse tempo em horas, minutos e segundos\n"
   ]
  },
  {
   "cell_type": "markdown",
   "metadata": {},
   "source": [
    "### 2°: Faça uma função que recebe a idade de uma pessoa em anos, meses e dias e retorna essa idade expressa em dias\n"
   ]
  },
  {
   "cell_type": "markdown",
   "metadata": {},
   "source": [
    "### 3°: Faça uma função que recebe um valor inteiro e verifica se o valor é positivo ou negativo. Se positivo verificar se é par ou impar\n"
   ]
  },
  {
   "cell_type": "markdown",
   "metadata": {},
   "source": [
    "### 4°: Faça uma função que recebe por parâmetro o raio de uma esfera e calcula o seu volume (v = 4 / 3 * Pi * R³)\n"
   ]
  },
  {
   "cell_type": "markdown",
   "metadata": {},
   "source": [
    "### 5°: Faça uma função que receba um valor inteiro e positivo e calcula o seu fatorial\n"
   ]
  },
  {
   "cell_type": "markdown",
   "metadata": {},
   "source": [
    "### 6°: Escreva uma função que recebe por parâmetro um valor inteiro e positivo N e retorna o valor de S:\n",
    "\n",
    "- S = 1 + ½ + 1/3 + ¼ + 1/5 + 1/N"
   ]
  }
 ],
 "metadata": {
  "language_info": {
   "name": "python"
  }
 },
 "nbformat": 4,
 "nbformat_minor": 2
}
