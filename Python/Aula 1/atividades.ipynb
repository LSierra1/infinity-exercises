{
 "cells": [
  {
   "cell_type": "markdown",
   "metadata": {},
   "source": [
    "# Atividades aula 1\n",
    "\n",
    "## Listas e Tuplas"
   ]
  },
  {
   "cell_type": "markdown",
   "metadata": {},
   "source": [
    "### 1°: Leia uma lista de 12 posições e em seguida ler também dois valores X e Y quaisquer correspondentes a duas posições na lista. Ao final seu programa deverá escrever a soma dos valores encontrados nas respectivas posições X e Y"
   ]
  },
  {
   "cell_type": "code",
   "execution_count": 3,
   "metadata": {},
   "outputs": [
    {
     "name": "stdout",
     "output_type": "stream",
     "text": [
      "O número 4 escolhido equivale a 3\n",
      "O número 5 escolhido equivale a 66\n",
      "A soma de 3 e 66 é de 69.\n"
     ]
    }
   ],
   "source": [
    "list = [9, 41, 7, 56, 3, 66, 70, 848, 19, 10, 27, 12, 444]\n",
    "\n",
    "valorEscolhido01 = int(input(\"Você irá digitar duas vezes um valor de 0 a 12.\\n\"\n",
    "                           \"Digite o primeiro: \"))\n",
    "\n",
    "valorEscolhido02 = int(input(\"Digite o segundo valor. Você poderá escolher o mesmo valor escolhido anteriormente.\\n\"\n",
    "                             \"Digite o segundo: \"))\n",
    "\n",
    "list01 = list[valorEscolhido01]\n",
    "list02 = list[valorEscolhido02]\n",
    "\n",
    "print(f\"O número {valorEscolhido01} escolhido equivale a {list01}\")\n",
    "print(f\"O número {valorEscolhido02} escolhido equivale a {list02}\")\n",
    "\n",
    "somaList = list01 + list02\n",
    "\n",
    "print(f\"A soma de {list01} e {list02} é de {somaList}.\")"
   ]
  },
  {
   "cell_type": "markdown",
   "metadata": {},
   "source": [
    "### 2°: Crie uma lista e adiciona a ela os primeiros 10 numeros impares"
   ]
  },
  {
   "cell_type": "code",
   "execution_count": null,
   "metadata": {},
   "outputs": [],
   "source": [
    "listNumber = []\n",
    "\n",
    "for i in range(10):\n",
    "    while True:\n",
    "        j = int(input(f\"Digite o {i+1}° número ímpar para armazenar na lista: \"))\n",
    "        if j % 2 != 0:  # Verifique se o número é ímpar\n",
    "            listNumber.append(j)\n",
    "            break\n",
    "        else:\n",
    "            print(\"Digite apenas números ímpares.\")\n",
    "\n",
    "print(\"Números ímpares inseridos:\", listNumber)\n"
   ]
  },
  {
   "cell_type": "markdown",
   "metadata": {},
   "source": [
    "### 3°: Leia uma lista de 10 posições e em seguida um valor X qualquer. Seu programa devera fazer uma busca do valor de X na lista lido e informar a posição em que foi encontrado ou se não foi encontrado."
   ]
  },
  {
   "cell_type": "code",
   "execution_count": null,
   "metadata": {},
   "outputs": [],
   "source": [
    "import time\n",
    "\n",
    "listNumber = []\n",
    "counter = 1\n",
    "found = False\n",
    "\n",
    "print(\"You're gonna write 10 random numbers.\")\n",
    "time.sleep(1)\n",
    "for i in range(1, 11):\n",
    "    output = print(f\"Type the {counter}° number:\\n\")\n",
    "    input()\n",
    "    listNumber.append(i)\n",
    "    counter += 1\n",
    "\n",
    "randomNumber = int(input(\"Now type a random number: \"))\n",
    "\n",
    "time.sleep(3)\n",
    "print(f\"List: {listNumber}\\n\"\n",
    "     f\"Random number: {randomNumber}\\n\"\n",
    "     f\"List size: {len(listNumber)}\\n\"\n",
    "     f\"Position of the random number within the list: {listNumber[randomNumber]}\")\n",
    "\n",
    "\n",
    "\n",
    "\n",
    "\n",
    "# while True:\n",
    "#     if randomNumber == listNumber[randomNumber]:\n",
    "#         boolResult = True\n",
    "#         print(boolResult)\n",
    "#         print(randomNumber, listNumber, len(listNumber), listNumber[randomNumber])\n",
    "#         break\n",
    "#     else:\n",
    "#         boolResult = False\n",
    "#         print(boolResult)\n",
    "#         time.sleep(0.5)\n",
    "#         randomNumber = int(input(\"Now type a random number: \"))"
   ]
  },
  {
   "cell_type": "markdown",
   "metadata": {},
   "source": [
    "#### Tentativa"
   ]
  },
  {
   "cell_type": "code",
   "execution_count": null,
   "metadata": {},
   "outputs": [],
   "source": [
    "listNumber = []\n",
    "\n",
    "for i in range(10):\n",
    "    while True:\n",
    "        j = int(input(f\"Digite o {i+1}° número ímpar para armazenar na lista: \"))\n",
    "        if j % 2 != 0:  # Verifique se o número é ímpar\n",
    "            listNumber.append(j)\n",
    "            break\n",
    "        else:\n",
    "            print(\"Digite apenas números ímpares.\")\n",
    "\n",
    "print(\"Números ímpares inseridos:\", listNumber)"
   ]
  },
  {
   "cell_type": "markdown",
   "metadata": {},
   "source": [
    "### 4°: Leia uma lista de 20 posições. Contar e escrever quantos valores pares ele possui"
   ]
  },
  {
   "cell_type": "code",
   "execution_count": null,
   "metadata": {},
   "outputs": [],
   "source": [
    "import time\n",
    "\n",
    "listNumber = []\n",
    "pairsNumbers = []\n",
    "oddNumbers = []\n",
    "\n",
    "for i in range(20):\n",
    "    while True:\n",
    "        j = input(f\"Digite o {i+1}° número para armazenar na lista: \")\n",
    "        if j.isalpha():\n",
    "            print(\"Digite apenas números. Letras não são válidas.\")\n",
    "        elif j.isdigit():\n",
    "            listNumber.append(int(j))  # Converta a entrada para um número inteiro\n",
    "            break\n",
    "        else:\n",
    "            print(\"Error\")  \n",
    "            exit()\n",
    "\n",
    "time.sleep(2)\n",
    "print(\"Informações da lista:\\n\"\n",
    "      f\"Lista completa: {listNumber}\\n\"\n",
    "      f\"Quantidade de números na lista: {len(listNumber)}\\n\")\n",
    "\n",
    "time.sleep(2)\n",
    "\n",
    "for k in listNumber:\n",
    "    if k % 2 == 0: # Aqui ocorre um erro caso a conversão na linha 13 não exista\n",
    "        pairsNumbers.append(k)\n",
    "    elif k % 2 != 0:\n",
    "        oddNumbers.append(k)\n",
    "    else:\n",
    "        print(\"Error\")\n",
    "\n",
    "print(f\"Quantidade de números pares: {len(pairsNumbers)}\\n\"\n",
    "      f\"Lista dos números pares: {pairsNumbers}\\n\"\n",
    "      f\"Quantidade de números ímpares: {len(oddNumbers)}\\n\"\n",
    "      f\"Lista de números ímpares: {oddNumbers}.\")"
   ]
  }
 ],
 "metadata": {
  "kernelspec": {
   "display_name": "Python 3",
   "language": "python",
   "name": "python3"
  },
  "language_info": {
   "codemirror_mode": {
    "name": "ipython",
    "version": 3
   },
   "file_extension": ".py",
   "mimetype": "text/x-python",
   "name": "python",
   "nbconvert_exporter": "python",
   "pygments_lexer": "ipython3",
   "version": "3.11.4"
  },
  "orig_nbformat": 4
 },
 "nbformat": 4,
 "nbformat_minor": 2
}
