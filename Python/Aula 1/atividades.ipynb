{
 "cells": [
  {
   "cell_type": "markdown",
   "metadata": {},
   "source": [
    "# Atividades aula 1\n",
    "\n",
    "## Revisão\n"
   ]
  },
  {
   "cell_type": "markdown",
   "metadata": {},
   "source": [
    "### 1°: Faça um programa que verifique e mostre os números entre 1.000 e 2.000 (inclusive) que, quando divididos por 11 produzam resto igual a 2\n"
   ]
  },
  {
   "cell_type": "code",
   "execution_count": null,
   "metadata": {},
   "outputs": [],
   "source": [
    "for i in range(1000, 2001):\n",
    "    if i % 11 == 2:\n",
    "        print(f\"{i} dividido por 11 tem resto 2.\")"
   ]
  },
  {
   "cell_type": "markdown",
   "metadata": {},
   "source": [
    "### 2°: Escreva um aplicativo que recebe inteiro e mostra os números pares e ímpares (separados), de 1 até esse inteiro\n"
   ]
  },
  {
   "cell_type": "code",
   "execution_count": null,
   "metadata": {},
   "outputs": [],
   "source": [
    "numbers = int(input(\"Digite um número inteiro maior que 1: \"))\n",
    "pairsNumbers = []\n",
    "oddNumbers = []\n",
    "\n",
    "while numbers <= 1:\n",
    "    numbers = int(input(\"Digite um número inteiro maior ou igual a 1: \"))\n",
    "\n",
    "for i in range(1, numbers + 1, 1):\n",
    "    if i % 2 == 0:\n",
    "        pairsNumbers.append(i)\n",
    "    elif i % 2 != 0:\n",
    "        oddNumbers.append(i)\n",
    "\n",
    "print(f\"Números pares: {pairsNumbers}\\n\"\n",
    "      f\"Números ímpares: {oddNumbers}\")"
   ]
  },
  {
   "cell_type": "markdown",
   "metadata": {},
   "source": [
    "### 3°: Faça um programa que receba a idade, altura e o peso de 25 pessoas, Calcule e mostre\n",
    "\n",
    "- A quantidade de pessoas com idade superior a 50 anos;\n",
    "- A média das Alturas das pessoas com idade entre 10 e 20 anos;\n",
    "- A porcentagem das pessoas com peso inferior a 40 quilos entre todas as pessoas analisadas.  "
   ]
  },
  {
   "cell_type": "markdown",
   "metadata": {},
   "source": [
    "### 4°: Faça um programa que receba a idade de 15 pessoas e que calcule e mostre\n",
    "\n",
    "#### a) A quantidade de pessoas em cada faixa etária\n",
    "\n",
    "#### b) A percentagem de pessoas na primeira e na última faixa etária, com relação ao total de pessoas\n",
    "\n",
    "- Até 15 anos;\n",
    "- De 16 a 30 anos;\n",
    "- De 31 a 45 anos;\n",
    "- De 46 a 60 anos;\n",
    "- Acima de 61 anos."
   ]
  },
  {
   "cell_type": "markdown",
   "metadata": {},
   "source": [
    "### 6°: Escreva um programa que lê o tamanho do lado de um quadrado e imprime um quadrado daquele tamanho com asteriscos e espaços em branco. Seu programa deve funcionar para quadrados com lados de todos os tamanhos entre 1 e 20.  Para lado igual a 5\n",
    "\n",
    "°°°°°\n",
    "\n",
    "°___°\n",
    "\n",
    "°___°\n",
    "\n",
    "°___°\n",
    "\n",
    "°°°°°"
   ]
  },
  {
   "cell_type": "markdown",
   "metadata": {},
   "source": [
    "### 7°: Faça um programa que leia um valor n, inteiro e positivo, calcule e mostre a seguinte soma: S = 1 + 1/2 + 1/3 + 1/4 + … + 1/n\n"
   ]
  }
 ],
 "metadata": {
  "kernelspec": {
   "display_name": "Python 3",
   "language": "python",
   "name": "python3"
  },
  "language_info": {
   "name": "python",
   "version": "3.11.5"
  }
 },
 "nbformat": 4,
 "nbformat_minor": 2
}
