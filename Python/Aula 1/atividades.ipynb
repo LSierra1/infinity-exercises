{
 "cells": [
  {
   "cell_type": "markdown",
   "metadata": {},
   "source": [
    "# Atividades aula 1\n",
    "\n",
    "## Revisão\n"
   ]
  },
  {
   "cell_type": "markdown",
   "metadata": {},
   "source": [
    "### 1°: Faça um programa que verifique e mostre os números entre 1.000 e 2.000 (inclusive) que, quando divididos por 11 produzam resto igual a 2\n"
   ]
  },
  {
   "cell_type": "markdown",
   "metadata": {},
   "source": [
    "### 2°: Escreva um aplicativo que recebe inteiro e mostra os números pares e ímpares (separados), de 1 até esse inteiro\n"
   ]
  },
  {
   "cell_type": "markdown",
   "metadata": {},
   "source": [
    "### 3°: Faça um programa que receba a idade, altura e o peso de 25 pessoas, Calcule e mostre\n",
    "\n",
    "- A quantidade de pessoas com idade superior a 50 anos;\n",
    "- A média das Alturas das pessoas com idade entre 10 e 20 anos;\n",
    "- A porcentagem das pessoas com peso inferior a 40 quilos entre todas as pessoas analisadas.  "
   ]
  },
  {
   "cell_type": "markdown",
   "metadata": {},
   "source": [
    "### 4°: Faça um programa que receba a idade de 15 pessoas e que calcule e mostre\n",
    "\n",
    "#### a) A quantidade de pessoas em cada faixa etária\n",
    "\n",
    "#### b) A percentagem de pessoas na primeira e na última faixa etária, com relação ao total de pessoas\n",
    "\n",
    "- Até 15 anos;\n",
    "- De 16 a 30 anos;\n",
    "- De 31 a 45 anos;\n",
    "- De 46 a 60 anos;\n",
    "- Acima de 61 anos."
   ]
  },
  {
   "cell_type": "markdown",
   "metadata": {},
   "source": [
    "### 6°: Escreva um programa que lê o tamanho do lado de um quadrado e imprime um quadrado daquele tamanho com asteriscos e espaços em branco. Seu programa deve funcionar para quadrados com lados de todos os tamanhos entre 1 e 20.  Para lado igual a 5\n",
    "\n",
    "°°°°°\n",
    "\n",
    "°___°\n",
    "\n",
    "°___°\n",
    "\n",
    "°___°\n",
    "\n",
    "°°°°°"
   ]
  },
  {
   "cell_type": "markdown",
   "metadata": {},
   "source": [
    "### 7°: Faça um programa que leia um valor n, inteiro e positivo, calcule e mostre a seguinte soma: S = 1 + 1/2 + 1/3 + 1/4 + … + 1/n\n"
   ]
  }
 ],
 "metadata": {
  "language_info": {
   "name": "python"
  }
 },
 "nbformat": 4,
 "nbformat_minor": 2
}
